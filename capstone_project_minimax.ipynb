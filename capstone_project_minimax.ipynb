{
 "cells": [
  {
   "cell_type": "code",
   "execution_count": 1,
   "metadata": {},
   "outputs": [],
   "source": [
    "import numpy\n",
    "import random\n",
    "import time"
   ]
  },
  {
   "cell_type": "code",
   "execution_count": 2,
   "metadata": {},
   "outputs": [],
   "source": [
    "d = numpy.array([[-1, 0], [0, -1]])"
   ]
  },
  {
   "cell_type": "code",
   "execution_count": 3,
   "metadata": {},
   "outputs": [],
   "source": [
    "def generate_data():\n",
    "    file = open(\"data.txt\", \"w\")\n",
    "    n = int(input(\"Size of matrix? \"))\n",
    "    file.write(str(n))\n",
    "    for i in range(n):\n",
    "        file.write(\"\\n\")\n",
    "        for j in range(n):\n",
    "            file.write(str(random.choice(range(2))) + \" \")\n",
    "    file.close()"
   ]
  },
  {
   "cell_type": "code",
   "execution_count": 4,
   "metadata": {},
   "outputs": [],
   "source": [
    "def get_data():\n",
    "    global n, nrow, ncol, A\n",
    "    file = open(\"data.txt\", \"r\")\n",
    "    n = int(file.readline())\n",
    "    nrow = ncol = n\n",
    "    A = numpy.zeros([n + 1, n + 1], dtype=int)\n",
    "    for i in range(1, n + 1):\n",
    "        line = file.readline().split()\n",
    "        for j in range(1, n + 1):\n",
    "            A[i][j] = int(line[j - 1])\n",
    "    file.close()"
   ]
  },
  {
   "cell_type": "code",
   "execution_count": 5,
   "metadata": {},
   "outputs": [],
   "source": [
    "def get_move(i, j):\n",
    "    move = []\n",
    "    if i == 0 or j == 0:\n",
    "        return []\n",
    "    s = 0\n",
    "    for t in range(1, j + 1):\n",
    "        s += A[i, t]\n",
    "    if s % 2 == 0:\n",
    "        move.append(0)\n",
    "    s = 0\n",
    "    for t in range(1, i + 1):\n",
    "        s += A[t, j]\n",
    "    if s % 2 == 0:\n",
    "        move.append(1)\n",
    "    return move"
   ]
  },
  {
   "cell_type": "code",
   "execution_count": 6,
   "metadata": {},
   "outputs": [],
   "source": [
    "def minimax(i, j):\n",
    "    global expanded\n",
    "    expanded+=1\n",
    "    if i == 0 or j == 0:\n",
    "        return 0\n",
    "    move = get_move(i, j)\n",
    "    res = 0\n",
    "    for x in move:\n",
    "        res = max(res, 1 - minimax(i + d[x][0], j + d[x][1]))\n",
    "    return res"
   ]
  },
  {
   "cell_type": "code",
   "execution_count": 7,
   "metadata": {},
   "outputs": [],
   "source": [
    "def return_result():\n",
    "    print(\n",
    "        \"The player who goes first has a strategy to always win.\"\n",
    "        if minimax(n,n) == 1\n",
    "        else \"The first player has no strategy to always win.\"\n",
    "    )"
   ]
  },
  {
   "cell_type": "code",
   "execution_count": 8,
   "metadata": {},
   "outputs": [
    {
     "name": "stdout",
     "output_type": "stream",
     "text": [
      "Size of matrix? 1600\n",
      "The player who goes first has a strategy to always win.\n",
      "\n",
      "Nodes expanded: 4\n",
      "Running time: 0.0067\n"
     ]
    }
   ],
   "source": [
    "if __name__ == \"__main__\":\n",
    "    generate_data()\n",
    "    get_data()\n",
    "    \n",
    "    import time\n",
    "    global expanded\n",
    "    expanded = 0\n",
    "    start_time=time.time()\n",
    "    return_result()\n",
    "    elapsed_time=time.time()-start_time\n",
    "    print()\n",
    "    print(\"Nodes expanded:\",expanded)\n",
    "    print(\"Running time:\",round(elapsed_time,4))"
   ]
  }
 ],
 "metadata": {
  "kernelspec": {
   "display_name": "Python 3",
   "language": "python",
   "name": "python3"
  },
  "language_info": {
   "codemirror_mode": {
    "name": "ipython",
    "version": 3
   },
   "file_extension": ".py",
   "mimetype": "text/x-python",
   "name": "python",
   "nbconvert_exporter": "python",
   "pygments_lexer": "ipython3",
   "version": "3.8.5"
  }
 },
 "nbformat": 4,
 "nbformat_minor": 4
}
