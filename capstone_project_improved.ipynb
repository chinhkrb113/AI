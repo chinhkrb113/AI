{
 "cells": [
  {
   "cell_type": "code",
   "execution_count": 1,
   "metadata": {},
   "outputs": [],
   "source": [
    "import numpy\n",
    "import random\n",
    "import time"
   ]
  },
  {
   "cell_type": "code",
   "execution_count": 2,
   "metadata": {},
   "outputs": [],
   "source": [
    "d = numpy.array([[-1, 0], [0, -1]])"
   ]
  },
  {
   "cell_type": "code",
   "execution_count": 3,
   "metadata": {},
   "outputs": [],
   "source": [
    "def generate_data():\n",
    "    file = open(\"data.txt\", \"w\")\n",
    "    n = int(input(\"Size of matrix? \"))\n",
    "    file.write(str(n))\n",
    "    for i in range(n):\n",
    "        file.write(\"\\n\")\n",
    "        for j in range(n):\n",
    "            file.write(str(random.choice(range(2))) + \" \")\n",
    "    file.close()"
   ]
  },
  {
   "cell_type": "code",
   "execution_count": 4,
   "metadata": {},
   "outputs": [],
   "source": [
    "def get_data():\n",
    "    global n, nrow, ncol, A\n",
    "    file = open(\"data.txt\", \"r\")\n",
    "    n = int(file.readline())\n",
    "    nrow = ncol = n\n",
    "    A = numpy.zeros([n + 1, n + 1], dtype=int)\n",
    "    for i in range(1, n + 1):\n",
    "        line = file.readline().split()\n",
    "        for j in range(1, n + 1):\n",
    "            A[i][j] = int(line[j - 1])\n",
    "    file.close()"
   ]
  },
  {
   "cell_type": "code",
   "execution_count": 5,
   "metadata": {},
   "outputs": [],
   "source": [
    "def initialize():\n",
    "    global S\n",
    "    S = numpy.zeros([n + 1, n + 1], dtype=int)\n",
    "    for i in range(1, n + 1):\n",
    "        for j in range(1, n + 1):\n",
    "            S[i][j] = S[i - 1][j] + S[i][j - 1] - S[i - 1][j - 1] + A[i][j]"
   ]
  },
  {
   "cell_type": "code",
   "execution_count": 6,
   "metadata": {},
   "outputs": [],
   "source": [
    "def get_move(i, j):\n",
    "    move = []\n",
    "    if i == 0 or j == 0:\n",
    "        return []\n",
    "    for x in range(2):\n",
    "        if (S[i][j] - S[i + d[x][0]][j + d[x][1]]) % 2 == 0:\n",
    "            move.append(x)\n",
    "    return move"
   ]
  },
  {
   "cell_type": "code",
   "execution_count": 7,
   "metadata": {},
   "outputs": [],
   "source": [
    "def dynamic_programming():\n",
    "    global R\n",
    "    R = numpy.zeros([n + 1, n + 1], dtype=int)\n",
    "    for i in range(1, n + 1):\n",
    "        for j in range(1, n + 1):\n",
    "            move = get_move(i, j)\n",
    "            for x in move:\n",
    "                R[i][j] = max(R[i][j], 1 - R[i + d[x][0]][j + d[x][1]])"
   ]
  },
  {
   "cell_type": "code",
   "execution_count": 8,
   "metadata": {},
   "outputs": [],
   "source": [
    "def return_result():\n",
    "    print(\n",
    "        \"The player who goes first has a strategy to always win.\"\n",
    "        if R[n][n] == 1\n",
    "        else \"The first player has no strategy to always win.\"\n",
    "    )"
   ]
  },
  {
   "cell_type": "code",
   "execution_count": 9,
   "metadata": {},
   "outputs": [
    {
     "name": "stdout",
     "output_type": "stream",
     "text": [
      "Size of matrix? 1600\n",
      "The first player has no strategy to always win.\n",
      "Running time: 35.04809880256653\n"
     ]
    }
   ],
   "source": [
    "if __name__ == \"__main__\":\n",
    "    generate_data()\n",
    "    get_data()\n",
    "    import time\n",
    "    start_time=time.time()\n",
    "    initialize()\n",
    "    dynamic_programming()\n",
    "    return_result()\n",
    "    elapsed_time=time.time()-start_time\n",
    "    print(\"Running time:\",elapsed_time)"
   ]
  }
 ],
 "metadata": {
  "kernelspec": {
   "display_name": "Python 3",
   "language": "python",
   "name": "python3"
  },
  "language_info": {
   "codemirror_mode": {
    "name": "ipython",
    "version": 3
   },
   "file_extension": ".py",
   "mimetype": "text/x-python",
   "name": "python",
   "nbconvert_exporter": "python",
   "pygments_lexer": "ipython3",
   "version": "3.8.5"
  }
 },
 "nbformat": 4,
 "nbformat_minor": 4
}
