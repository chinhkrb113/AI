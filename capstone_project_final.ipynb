{
 "cells": [
  {
   "cell_type": "code",
   "execution_count": 1,
   "metadata": {},
   "outputs": [],
   "source": [
    "import numpy\n",
    "import random\n",
    "import time"
   ]
  },
  {
   "cell_type": "code",
   "execution_count": 2,
   "metadata": {},
   "outputs": [],
   "source": [
    "d = numpy.array([[-1, 0], [0, -1]])"
   ]
  },
  {
   "cell_type": "code",
   "execution_count": 3,
   "metadata": {},
   "outputs": [],
   "source": [
    "def generate_data():\n",
    "    file = open(\"data.txt\", \"w\")\n",
    "    n = int(input(\"Size of matrix? \"))\n",
    "    file.write(str(n))\n",
    "    for i in range(n):\n",
    "        file.write(\"\\n\")\n",
    "        for j in range(n):\n",
    "            file.write(str(random.choice(range(2))) + \" \")\n",
    "    file.close()"
   ]
  },
  {
   "cell_type": "code",
   "execution_count": 4,
   "metadata": {},
   "outputs": [],
   "source": [
    "def get_data():\n",
    "    global n, nrow, ncol, A\n",
    "    file = open(\"data.txt\", \"r\")\n",
    "    n = int(file.readline())\n",
    "    nrow = ncol = n\n",
    "    A = numpy.zeros([n + 1, n + 1], dtype=int)\n",
    "    for i in range(1, n + 1):\n",
    "        line = file.readline().split()\n",
    "        for j in range(1, n + 1):\n",
    "            A[i][j] = int(line[j - 1])\n",
    "    file.close()"
   ]
  },
  {
   "cell_type": "code",
   "execution_count": 5,
   "metadata": {},
   "outputs": [],
   "source": [
    "def initialize():\n",
    "    global S\n",
    "    S = numpy.zeros([n + 1, n + 1], dtype=int)\n",
    "    for i in range(1, n + 1):\n",
    "        for j in range(1, n + 1):\n",
    "            S[i][j] = S[i - 1][j] + S[i][j - 1] - S[i - 1][j - 1] + A[i][j]"
   ]
  },
  {
   "cell_type": "code",
   "execution_count": 6,
   "metadata": {},
   "outputs": [],
   "source": [
    "def get_move(i, j):\n",
    "    move = []\n",
    "    if i == 0 or j == 0:\n",
    "        return []\n",
    "    for x in range(2):\n",
    "        if (S[i][j] - S[i + d[x][0]][j + d[x][1]]) % 2 == 0:\n",
    "            move.append(x)\n",
    "    return move"
   ]
  },
  {
   "cell_type": "code",
   "execution_count": 7,
   "metadata": {},
   "outputs": [],
   "source": [
    "def dynamic_programming():\n",
    "    global R\n",
    "    R = numpy.zeros([n + 1, n + 1], dtype=int)\n",
    "    for i in range(1, n + 1):\n",
    "        for j in range(1, n + 1):\n",
    "            move = get_move(i, j)\n",
    "            for x in move:\n",
    "                R[i][j] = max(R[i][j], 1 - R[i + d[x][0]][j + d[x][1]])"
   ]
  },
  {
   "cell_type": "code",
   "execution_count": 8,
   "metadata": {},
   "outputs": [],
   "source": [
    "def return_result():\n",
    "    print(\n",
    "        \"The player who goes first has a strategy to always win.\"\n",
    "        if R[n][n] == 1\n",
    "        else \"The first player has no strategy to always win.\"\n",
    "    )"
   ]
  },
  {
   "cell_type": "code",
   "execution_count": 9,
   "metadata": {},
   "outputs": [],
   "source": [
    "def take_move(player, x):\n",
    "    global nrow, ncol\n",
    "    print(\n",
    "        \"Computer\" if player == 0 else \"Player\",\n",
    "        \": delete last\",\n",
    "        \"row\" if x == 0 else \"column\",\n",
    "    )\n",
    "    nrow += d[x][0]\n",
    "    ncol += d[x][1]"
   ]
  },
  {
   "cell_type": "code",
   "execution_count": 10,
   "metadata": {},
   "outputs": [],
   "source": [
    "def computer_move():\n",
    "    print(\"This is computer's turn\")\n",
    "    move = get_move(nrow, ncol)\n",
    "    print(\"Avaiable move: \", move)\n",
    "    if move == []:\n",
    "        raise SystemExit(\"Game over, player win\")\n",
    "    for x in move:\n",
    "        if R[nrow + d[x][0]][ncol + d[x][1]] == 0:\n",
    "            take_move(0, x)\n",
    "            return\n",
    "    for x in move:\n",
    "        take_move(0, x)\n",
    "        return"
   ]
  },
  {
   "cell_type": "code",
   "execution_count": 11,
   "metadata": {},
   "outputs": [],
   "source": [
    "def player_move():\n",
    "    print(\"This is player's turn\")\n",
    "    move = get_move(nrow, ncol)\n",
    "    print(\"Avaiable move: \", move)\n",
    "    if move == []:\n",
    "        raise SystemExit(\"Game over, computer win\")\n",
    "    x = int(input(\"Your move? \"))\n",
    "    take_move(1, x)\n",
    "    return"
   ]
  },
  {
   "cell_type": "code",
   "execution_count": 12,
   "metadata": {},
   "outputs": [],
   "source": [
    "def print_matrix():\n",
    "    print(\"nrow = \", nrow)\n",
    "    print(\"ncol = \", ncol)\n",
    "    print(\"matrix :\")\n",
    "    for i in range(1, nrow + 1):\n",
    "        for j in range(1, ncol + 1):\n",
    "            print(A[i][j], end=\" \")\n",
    "        print()"
   ]
  },
  {
   "cell_type": "code",
   "execution_count": 13,
   "metadata": {},
   "outputs": [],
   "source": [
    "def game():\n",
    "    p = 1 if input(\"Wanna go first? YES or NO? \") == \"YES\" else 0\n",
    "    while True:\n",
    "        print()\n",
    "        print_matrix()\n",
    "        if p == 0:\n",
    "            computer_move()\n",
    "            time.sleep(2)\n",
    "        else:\n",
    "            player_move()\n",
    "            time.sleep(2)\n",
    "        p = 1 - p"
   ]
  },
  {
   "cell_type": "code",
   "execution_count": 14,
   "metadata": {},
   "outputs": [
    {
     "name": "stdout",
     "output_type": "stream",
     "text": [
      "Size of matrix? 10\n",
      "nrow =  10\n",
      "ncol =  10\n",
      "matrix :\n",
      "0 1 1 1 0 1 0 0 1 1 \n",
      "0 1 1 1 1 1 0 1 0 1 \n",
      "1 1 1 0 0 1 0 0 1 0 \n",
      "0 0 1 1 1 1 1 0 0 1 \n",
      "0 1 1 0 0 1 1 1 1 0 \n",
      "1 1 1 0 0 0 0 1 0 1 \n",
      "1 1 1 1 0 0 1 1 1 0 \n",
      "0 0 0 0 1 1 1 1 0 0 \n",
      "0 0 1 1 1 1 1 1 0 1 \n",
      "1 1 0 0 0 1 1 0 0 1 \n",
      "The first player has no strategy to always win.\n",
      "Wanna go first? YES or NO? YES\n",
      "\n",
      "nrow =  10\n",
      "ncol =  10\n",
      "matrix :\n",
      "0 1 1 1 0 1 0 0 1 1 \n",
      "0 1 1 1 1 1 0 1 0 1 \n",
      "1 1 1 0 0 1 0 0 1 0 \n",
      "0 0 1 1 1 1 1 0 0 1 \n",
      "0 1 1 0 0 1 1 1 1 0 \n",
      "1 1 1 0 0 0 0 1 0 1 \n",
      "1 1 1 1 0 0 1 1 1 0 \n",
      "0 0 0 0 1 1 1 1 0 0 \n",
      "0 0 1 1 1 1 1 1 0 1 \n",
      "1 1 0 0 0 1 1 0 0 1 \n",
      "This is player's turn\n",
      "Avaiable move:  [1]\n",
      "Your move? 1\n",
      "Player : delete last column\n",
      "\n",
      "nrow =  10\n",
      "ncol =  9\n",
      "matrix :\n",
      "0 1 1 1 0 1 0 0 1 \n",
      "0 1 1 1 1 1 0 1 0 \n",
      "1 1 1 0 0 1 0 0 1 \n",
      "0 0 1 1 1 1 1 0 0 \n",
      "0 1 1 0 0 1 1 1 1 \n",
      "1 1 1 0 0 0 0 1 0 \n",
      "1 1 1 1 0 0 1 1 1 \n",
      "0 0 0 0 1 1 1 1 0 \n",
      "0 0 1 1 1 1 1 1 0 \n",
      "1 1 0 0 0 1 1 0 0 \n",
      "This is computer's turn\n",
      "Avaiable move:  [0, 1]\n",
      "Computer : delete last row\n",
      "\n",
      "nrow =  9\n",
      "ncol =  9\n",
      "matrix :\n",
      "0 1 1 1 0 1 0 0 1 \n",
      "0 1 1 1 1 1 0 1 0 \n",
      "1 1 1 0 0 1 0 0 1 \n",
      "0 0 1 1 1 1 1 0 0 \n",
      "0 1 1 0 0 1 1 1 1 \n",
      "1 1 1 0 0 0 0 1 0 \n",
      "1 1 1 1 0 0 1 1 1 \n",
      "0 0 0 0 1 1 1 1 0 \n",
      "0 0 1 1 1 1 1 1 0 \n",
      "This is player's turn\n",
      "Avaiable move:  [0, 1]\n",
      "Your move? 0\n",
      "Player : delete last row\n",
      "\n",
      "nrow =  8\n",
      "ncol =  9\n",
      "matrix :\n",
      "0 1 1 1 0 1 0 0 1 \n",
      "0 1 1 1 1 1 0 1 0 \n",
      "1 1 1 0 0 1 0 0 1 \n",
      "0 0 1 1 1 1 1 0 0 \n",
      "0 1 1 0 0 1 1 1 1 \n",
      "1 1 1 0 0 0 0 1 0 \n",
      "1 1 1 1 0 0 1 1 1 \n",
      "0 0 0 0 1 1 1 1 0 \n",
      "This is computer's turn\n",
      "Avaiable move:  [0, 1]\n",
      "Computer : delete last row\n",
      "\n",
      "nrow =  7\n",
      "ncol =  9\n",
      "matrix :\n",
      "0 1 1 1 0 1 0 0 1 \n",
      "0 1 1 1 1 1 0 1 0 \n",
      "1 1 1 0 0 1 0 0 1 \n",
      "0 0 1 1 1 1 1 0 0 \n",
      "0 1 1 0 0 1 1 1 1 \n",
      "1 1 1 0 0 0 0 1 0 \n",
      "1 1 1 1 0 0 1 1 1 \n",
      "This is player's turn\n",
      "Avaiable move:  [1]\n",
      "Your move? 1\n",
      "Player : delete last column\n",
      "\n",
      "nrow =  7\n",
      "ncol =  8\n",
      "matrix :\n",
      "0 1 1 1 0 1 0 0 \n",
      "0 1 1 1 1 1 0 1 \n",
      "1 1 1 0 0 1 0 0 \n",
      "0 0 1 1 1 1 1 0 \n",
      "0 1 1 0 0 1 1 1 \n",
      "1 1 1 0 0 0 0 1 \n",
      "1 1 1 1 0 0 1 1 \n",
      "This is computer's turn\n",
      "Avaiable move:  [0, 1]\n",
      "Computer : delete last column\n",
      "\n",
      "nrow =  7\n",
      "ncol =  7\n",
      "matrix :\n",
      "0 1 1 1 0 1 0 \n",
      "0 1 1 1 1 1 0 \n",
      "1 1 1 0 0 1 0 \n",
      "0 0 1 1 1 1 1 \n",
      "0 1 1 0 0 1 1 \n",
      "1 1 1 0 0 0 0 \n",
      "1 1 1 1 0 0 1 \n",
      "This is player's turn\n",
      "Avaiable move:  []\n"
     ]
    },
    {
     "ename": "SystemExit",
     "evalue": "Game over, computer win",
     "output_type": "error",
     "traceback": [
      "An exception has occurred, use %tb to see the full traceback.\n",
      "\u001b[0;31mSystemExit\u001b[0m\u001b[0;31m:\u001b[0m Game over, computer win\n"
     ]
    },
    {
     "name": "stderr",
     "output_type": "stream",
     "text": [
      "/Library/Frameworks/Python.framework/Versions/3.8/lib/python3.8/site-packages/IPython/core/interactiveshell.py:3426: UserWarning: To exit: use 'exit', 'quit', or Ctrl-D.\n",
      "  warn(\"To exit: use 'exit', 'quit', or Ctrl-D.\", stacklevel=1)\n"
     ]
    }
   ],
   "source": [
    "if __name__ == \"__main__\":\n",
    "    generate_data()\n",
    "    get_data()\n",
    "    print_matrix()\n",
    "    initialize()\n",
    "    dynamic_programming()\n",
    "    return_result()\n",
    "    game()"
   ]
  }
 ],
 "metadata": {
  "kernelspec": {
   "display_name": "Python 3",
   "language": "python",
   "name": "python3"
  },
  "language_info": {
   "codemirror_mode": {
    "name": "ipython",
    "version": 3
   },
   "file_extension": ".py",
   "mimetype": "text/x-python",
   "name": "python",
   "nbconvert_exporter": "python",
   "pygments_lexer": "ipython3",
   "version": "3.8.5"
  }
 },
 "nbformat": 4,
 "nbformat_minor": 4
}
